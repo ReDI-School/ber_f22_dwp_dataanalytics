{
  "nbformat": 4,
  "nbformat_minor": 0,
  "metadata": {
    "colab": {
      "provenance": []
    },
    "kernelspec": {
      "name": "python3",
      "display_name": "Python 3"
    }
  },
  "cells": [
    {
      "cell_type": "markdown",
      "metadata": {
        "id": "jHXW5E0kZ38J"
      },
      "source": [
        "![Immoscout](https://raw.githubusercontent.com/juliandnl/redi_ss20/master/image.png)"
      ]
    },
    {
      "cell_type": "markdown",
      "metadata": {
        "id": "KAxkfPwXadvb"
      },
      "source": [
        "# Project - Immobilien Scout 24\n",
        "\n",
        "--- \n",
        "## The description:\n",
        "Welcome to your first project! Have you heard about Immobilienscout 24?  [Immobilienscout 24](https://https://www.immobilienscout24.de/). It the biggest platform for renting appartments in Germany. The company hires data analysts and data scientists for analyzing the market data. They are especially interested in the Berlin market. The company wants to understand where to publish advertisment.\n",
        "\n",
        "--- \n",
        "## The dataset:\n",
        "The datasets contains information about rental appartments in Berlin. \n",
        "One row is for one appartment. The dataset contains 6 columns.  \n",
        "- Region: is the Berlin district, where the flat is located\n",
        "- Condition: is the condition of the flat\n",
        "- Rooms: The number of rooms the flat has\n",
        "- Rent: Monthly rent for the flat\n",
        "- Year_Construction: The year in which the house was build\n",
        "- Space: How many square meters does the flat have?\n",
        "\n",
        "--- \n",
        "## The Task:\n",
        "1. What kind of information do we have?\n",
        "2. In which conditions are the flats?\n",
        "3. Where are the appartments located?\n",
        "4. Where is the biggest and where is the smallest apartment?\n",
        "\n",
        "Bonus Questions:\n",
        "5. What is the mean rent?\n"
      ]
    },
    {
      "cell_type": "code",
      "metadata": {
        "id": "lhduQalLT4mA"
      },
      "source": [
        "# Imports\n",
        "import pandas as pd"
      ],
      "execution_count": null,
      "outputs": []
    },
    {
      "cell_type": "code",
      "metadata": {
        "id": "JOWPZGEK0qBF"
      },
      "source": [
        "# install plotly\n",
        "# https://plotly.com/python/pandas-backend/\n",
        "!pip install plotly==4.14.3\n",
        "pd.options.plotting.backend = \"plotly\""
      ],
      "execution_count": null,
      "outputs": []
    },
    {
      "cell_type": "code",
      "metadata": {
        "id": "v9cxv3jwUp5Z"
      },
      "source": [
        "# Read in dataset\n",
        "rentals = pd.read_csv(\"https://raw.githubusercontent.com/juliandnl/redi_ss20/master/berlin_rental.csv\")"
      ],
      "execution_count": null,
      "outputs": []
    },
    {
      "cell_type": "markdown",
      "metadata": {
        "id": "k2Gv9pEiU4Ao"
      },
      "source": [
        "# 1. What kind of information do we have?\n",
        "Do the following tasks:\n",
        "\n",
        "\n",
        "1. Use .shape, .info(), .describe(), .head()\n",
        "2. Select row 250:260 of column 3 and 4\n",
        "3. Select row 252, 253, 257 of column 1, 3, 5"
      ]
    },
    {
      "cell_type": "code",
      "source": [
        "rentals.shape\n",
        "rentals.info()\n",
        "rentals.describe()\n",
        "rentals.head()\n",
        "rentals.iloc[250:260, 3:5]\n",
        "rentals.iloc[[252,253,257], [1,3,5]]\n"
      ],
      "metadata": {
        "id": "SFPmrd4R6pOo"
      },
      "execution_count": null,
      "outputs": []
    },
    {
      "cell_type": "markdown",
      "metadata": {
        "id": "FrujnQH60Wt3"
      },
      "source": [
        "# 2. In which conditions are the flats?"
      ]
    },
    {
      "cell_type": "code",
      "source": [
        "rentals[\"Condition\"].unique()"
      ],
      "metadata": {
        "id": "Y_of-VMsNuTw"
      },
      "execution_count": null,
      "outputs": []
    },
    {
      "cell_type": "markdown",
      "metadata": {
        "id": "KwB1lNjx0YdA"
      },
      "source": [
        "# 3. Where are the appartments located?"
      ]
    },
    {
      "cell_type": "code",
      "metadata": {
        "id": "rSMSFNK20bzt"
      },
      "source": [
        "rentals[\"Region\"].unique()"
      ],
      "execution_count": null,
      "outputs": []
    },
    {
      "cell_type": "markdown",
      "metadata": {
        "id": "L04Y5VTSpXIL"
      },
      "source": [
        "# 4. Where is the biggest and the smallest apartment?"
      ]
    },
    {
      "cell_type": "markdown",
      "source": [
        "Remember that you have the methods .mix() and .max() at your disposal."
      ],
      "metadata": {
        "id": "uC39p9FyPcp1"
      }
    },
    {
      "cell_type": "code",
      "metadata": {
        "id": "feJYn8GTqOYG"
      },
      "source": [
        "meter = rentals.iloc[:,5]\n",
        "min_meter = rentals.loc[rentals['Space'] == meter.min(), [\"Region\"]].values[0]\n",
        "max_meter = rentals.loc[rentals['Space'] == meter.max(), [\"Region\"]].values[0]\n",
        "print(min_meter)\n",
        "print(max_meter)\n"
      ],
      "execution_count": null,
      "outputs": []
    },
    {
      "cell_type": "markdown",
      "metadata": {
        "id": "pWtdIHKbqq7R"
      },
      "source": [
        "# BONUS 5. What is the mean rent?\n",
        "Have a look at:\n",
        "- https://stackoverflow.com/questions/31037298/pandas-get-column-average-mean\n",
        "- https://pandas.pydata.org/pandas-docs/stable/reference/api/pandas.DataFrame.mean.html"
      ]
    },
    {
      "cell_type": "code",
      "source": [
        "rents = rentals.iloc[:, 3]\n",
        "\n",
        "print(rents.mean())"
      ],
      "metadata": {
        "id": "WSuLZTinV03s"
      },
      "execution_count": null,
      "outputs": []
    },
    {
      "cell_type": "markdown",
      "metadata": {
        "id": "wTOrpLU3ydPb"
      },
      "source": [
        "--- \n",
        "# Review\n",
        "\n",
        "This section is only for the reviewing team!\n",
        "\n",
        "Guideline how to review:\n",
        "https://docs.google.com/presentation/d/1YORFwlfVQo9ogj7jR9t6_pqxmGIlpBSGubbp1UdtcBQ/edit?usp=sharing\n"
      ]
    },
    {
      "cell_type": "code",
      "metadata": {
        "id": "9vtETkgtq3EZ"
      },
      "source": [
        "#@title Review Criteria:\n",
        "%%html\n",
        "<h3><input type=\"checkbox\"> 1. Are all questions answered? <br></h3> \n",
        "<h3><input type=\"checkbox\"> 2. Does all code run through? <br></h3> \n",
        "<h3><input type=\"checkbox\"> 3. Are the conclusions understandable?  <br></h3> \n",
        "<h3><input type=\"checkbox\"> 4. Are the bonus question answered?  <br></h3> "
      ],
      "execution_count": null,
      "outputs": []
    },
    {
      "cell_type": "code",
      "source": [],
      "metadata": {
        "id": "-Ofu66SbWV2t"
      },
      "execution_count": null,
      "outputs": []
    }
  ]
}