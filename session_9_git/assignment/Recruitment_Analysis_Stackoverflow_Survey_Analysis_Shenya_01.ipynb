{
  "nbformat": 4,
  "nbformat_minor": 0,
  "metadata": {
    "colab": {
      "provenance": []
    },
    "kernelspec": {
      "name": "python3",
      "display_name": "Python 3"
    },
    "language_info": {
      "name": "python"
    }
  },
  "cells": [
    {
      "cell_type": "markdown",
      "source": [
        "# “How to recruit Data Scientists?” - Recruitment Analysis "
      ],
      "metadata": {
        "id": "if8qFrx13W-U"
      }
    },
    {
      "cell_type": "markdown",
      "source": [
        "## **Description:**\n",
        "\n",
        "You are working for a major tech company in Berlin as a Junior Data Analyst. The tech company wants to grow and hire for their new Data Science team. The HR department of the company asks you to create an analysis on how to recruit for the new data science team. \n",
        "\n",
        "You take the Stackoverflow Survey to analyze the data science market. \n",
        "\n",
        "The company wants to recruit people who have Python and SQL skills. \n",
        "\n",
        "**Please answer the following questions:**\n",
        "- How many Data Analyst / Scientists are in the survey? \n",
        "- What profile do these Data Analyst / Scientist have? (Background, education, work experience)\n",
        "- What is the salary range for such Data Analysts / Scientists?\n",
        "- Please share any other insight you find that would be relevant for deciding how to recruit Data Analysts/Scientist."
      ],
      "metadata": {
        "id": "Jb77Ily03ibG"
      }
    },
    {
      "cell_type": "markdown",
      "source": [
        "## Resources:\n",
        "\n",
        "* [About the Survey ](https://insights.stackoverflow.com/survey)\n",
        "\n"
      ],
      "metadata": {
        "id": "hB9rYynZvW1Y"
      }
    },
    {
      "cell_type": "code",
      "source": [
        "import requests, zipfile, io\n",
        "import pandas as pd"
      ],
      "metadata": {
        "id": "6DXYKF_NLCl_"
      },
      "execution_count": null,
      "outputs": []
    },
    {
      "cell_type": "code",
      "source": [
        "import matplotlib.pyplot as plt\n",
        "from pandas_profiling import ProfileReport\n",
        "%matplotlib inline\n",
        "pd.set_option('display.max_colwidth', None)"
      ],
      "metadata": {
        "id": "3_9H9IvVo-DO"
      },
      "execution_count": null,
      "outputs": []
    },
    {
      "cell_type": "code",
      "source": [
        "# Link to Survey Data\n",
        "zip_file_url = \"https://info.stackoverflowsolutions.com/rs/719-EMH-566/images/stack-overflow-developer-survey-2022.zip\""
      ],
      "metadata": {
        "id": "LYKNkTn6LKPJ"
      },
      "execution_count": null,
      "outputs": []
    },
    {
      "cell_type": "code",
      "source": [
        "# Download Survey Data into Google Colab\n",
        "r = requests.get(zip_file_url)\n",
        "z = zipfile.ZipFile(io.BytesIO(r.content))\n",
        "z.extractall(\"/content\")"
      ],
      "metadata": {
        "id": "c9pfnKR-KM4h"
      },
      "execution_count": null,
      "outputs": []
    },
    {
      "cell_type": "code",
      "source": [
        "# Load Survey Data\n",
        "survey_results = pd.read_csv(\"/content/survey_results_public.csv\")"
      ],
      "metadata": {
        "id": "XgfVaFFvKTvL"
      },
      "execution_count": null,
      "outputs": []
    },
    {
      "cell_type": "code",
      "source": [
        "survey_results.head(5)"
      ],
      "metadata": {
        "id": "oUWns7UBhjMO"
      },
      "execution_count": null,
      "outputs": []
    },
    {
      "cell_type": "code",
      "source": [
        "survey_results.columns"
      ],
      "metadata": {
        "id": "OoJmyog_h-Lw"
      },
      "execution_count": null,
      "outputs": []
    },
    {
      "cell_type": "markdown",
      "source": [
        "\n",
        "\n",
        "\n",
        "Stack Overflow Usage + Community\n",
        "Demographic Information\n",
        "Professional Developer Series (Optional) 7. Final Questions **\n",
        "\n",
        "1. 'ResponseId', : Identity of the saved survey response\n",
        "\n",
        "Basic Information \n",
        "\n",
        "2. 'MainBranch', : Whether developer,hobby developer, student, or not; one option: Reguired\n",
        "\n",
        "3. 'Employment', : Which of the following best describes your current employment status?\n",
        "\n",
        "4. 'RemoteWork', : Which best describes your current work situation?\n",
        "\n",
        "5. 'CodingActivities', : Which of the following best describes the code you write outside of work? Select all that apply.\n",
        "\n"
      ],
      "metadata": {
        "id": "aA-ZHObxirR4"
      }
    },
    {
      "cell_type": "markdown",
      "source": [
        "Education, Work, and Career\n",
        "\n",
        "6. 'EdLevel', : Which of the following best describes the highest level of formal education that you’ve completed? *\n",
        "\n",
        "7. 'LearnCode', : How did you learn to code? Select all that apply.\n",
        "\n",
        "8. 'LearnCodeOnline', : What online resources do you use to learn to code? Select all that apply.\n",
        "\n",
        "9. 'LearnCodeCoursesCert', : What online courses or certifications do you use to learn to code? Select all that apply.\n",
        "\n",
        "10. 'YearsCode', : Including any education, how many years have you been coding in total?\n",
        "\n",
        "11. 'YearsCodePro', : NOT including education, how many years have you coded professionally (as a part of your work)?\n",
        "\n",
        "12. **'DevType',** : Which of the following describes your current job? Please select all that apply.\n",
        "\n",
        "13. 'OrgSize', : Approximately how many people are employed by the company or organization you currently work for?\n",
        "\n",
        "14. 'PurchaseInfluence', : What level of influence do you, personally, have over new technology purchases at your organization?\n",
        "\n",
        "15. 'BuyNewTool', : When buying a new tool or software, how do you discover and research available solutions? Select all that apply.\n",
        "\n",
        "16. **'Country', ** : Where do you live? *\n",
        "\n",
        "17. 'Currency', : Which currency do you use day-to-day? If your answer is complicated, please pick the one you're most comfortable estimating in. *\n",
        "\n",
        "18. 'CompTotal', : What is your current total compensation (salary, bonuses, and perks, before taxes and deductions)?\n",
        "\n",
        "19. 'CompFreq', : Is that compensation weekly, monthly, or yearly?\n",
        "\n"
      ],
      "metadata": {
        "id": "LHSaYaJdy6Xe"
      }
    },
    {
      "cell_type": "markdown",
      "source": [
        "Technology and Tech Culture\n",
        "\n",
        "\n",
        "20. **'LanguageHaveWorkedWith',** : Which programming, scripting, and markup languages have you done extensive development work in over the past year\n",
        "\n",
        "21. **'LanguageWantToWorkWith', ** : Which programming, scripting, and markup languages do you want to work in over the next year? \n",
        "\n",
        "22. **'DatabaseHaveWorkedWith',** : Which database environments have you done extensive development work in over the past year\n",
        "\n",
        "23. **'DatabaseWantToWorkWith', ** : Which database environments do you want to work in over the next year? \n",
        "\n",
        "\n",
        "24. 'PlatformHaveWorkedWith', : Which cloud platforms now\n",
        "\n",
        "25. 'PlatformWantToWorkWith',  : Which cloud platforms next\n",
        "\n",
        "26. 'WebframeHaveWorkedWith', : Which web frameworks and web technologies\n",
        "\n",
        "27. 'WebframeWantToWorkWith', : Which web frameworks and web technologies\n",
        "\n",
        "28. **'MiscTechHaveWorkedWith', : Which other frameworks and libraries**\n",
        "\n",
        "29. **'MiscTechWantToWorkWith', : Which other frameworks and libraries**\n",
        "\n",
        "30. 'ToolsTechHaveWorkedWith', : Which developer tools\n",
        "\n",
        "31. 'ToolsTechWantToWorkWith', : Which developer tools\n",
        "\n",
        "32. 'NEWCollabToolsHaveWorkedWith', : Which development environments \n",
        "\n",
        "33. 'NEWCollabToolsWantToWorkWith', : Which development environments \n",
        "\n",
        "\n",
        "\n",
        "34. 'OpSysProfessional use', : What is the primary operating system Professional use\n",
        "\n",
        "35. 'OpSysPersonal use', : What is the primary operating system Personal User\n",
        "\n",
        "36. 'VersionControlSystem', : What are the primary version control systems you use? Select all that apply.\n",
        "\n",
        "37. 'VCInteraction',: How do you interact with your version control system? Select all that apply.\n",
        "\n",
        "38. 'VCHostingPersonal use', : \n",
        "What version control hosting service are you using? Personal\n",
        "\n",
        "39. 'VCHostingProfessional use', : \n",
        "What version control hosting service are you using? Professional\n",
        "\n",
        "\n",
        "\n",
        "40. 'OfficeStackAsyncHaveWorkedWith', : Which collaborative work management tools now\n",
        "\n",
        "41. 'OfficeStackAsyncWantToWorkWith', : Which collaborative work management tools next\n",
        "\n",
        "42. 'OfficeStackSyncHaveWorkedWith', : Which communication tools did you use now\n",
        "\n",
        "43. 'OfficeStackSyncWantToWorkWith', : Which communication tools did you use next\n",
        "\n",
        "\n",
        "44. 'Blockchain', : How favorable are you about blockchain, crypto, and decentralization?\n",
        "\n"
      ],
      "metadata": {
        "id": "rn81nG1ozG65"
      }
    },
    {
      "cell_type": "markdown",
      "source": [
        "Stack Community\n",
        "\n",
        "45. 'NEWSOSites', : \n",
        "Which of the following Stack Overflow sites have you visited? Select all that apply.\n",
        "\n",
        "46. 'SOVisitFreq', : How frequently would you say you visit Stack Overflow?\n",
        "\n",
        "47. 'SOAccount', : Do you have a Stack Overflow account?\n",
        "\n",
        "48. 'SOPartFreq', : How frequently would you say you participate in Q&A on Stack Overflow? By participate we mean ask, answer, vote for, or comment on questions.\n",
        "\n",
        "49. 'SOComm', : Do you consider yourself a member of the Stack Overflow community?\n",
        "\n"
      ],
      "metadata": {
        "id": "zrTw85Es0jKs"
      }
    },
    {
      "cell_type": "markdown",
      "source": [
        "Demographics\n",
        "\n",
        "50. 'Age', : Age range\n",
        "\n",
        "51. 'Gender', : Which of the following describe you, if any? Please check all that apply.\n",
        "\n",
        "52. 'Trans', : Do you identify as transgender?\n",
        "\n",
        "53. 'Sexuality', : Which of the following describe you, if any? Please check all that apply.\n",
        "\n",
        "54. 'Ethnicity', : Which of the following describe you, if any? Please check all that apply.\n",
        "\n",
        "55. 'Accessibility', : Which of the following describe you, if any? Please check all that apply.\n",
        "\n",
        "56. 'MentalHealth', : Which of the following describe you, if any? Please check all that apply.\n",
        "\n"
      ],
      "metadata": {
        "id": "fNh2wYau08yP"
      }
    },
    {
      "cell_type": "markdown",
      "source": [
        "TeamsBranch\n",
        "Professional Developer Series : This is an optional section\n",
        "\n",
        "57. 'TBranch', : Would you like to participate in the Professional Developer Series?\n",
        "\n",
        "TeamsQuestions\n",
        "\n",
        "58. 'ICorPM', : Are you an independent contributor or people manager?\n",
        "\n",
        "59. **'WorkExp',**: How many years of working experience do you have?\n",
        "\n",
        "60. 'Knowledge_1',  : I have interactions with people outside of my immediate team.\n",
        "\n",
        "61. 'Knowledge_2', : Knowledge silos prevent me from getting ideas across the organization (i.e., one individual or team has information that isn't shared with others)\n",
        "\n",
        "62. 'Knowledge_3', : I can find up-to-date information within my organization to help me do my job.\n",
        "\n",
        "63. 'Knowledge_4', : I am able to quickly find answers to my questions with existing tools and resources.\n",
        "\n",
        "64. 'Knowledge_5', : I know which system or resource to use to find information and answers to questions I have.\n",
        "\n",
        "65. 'Knowledge_6', : I often find myself answering questions that I’ve already answered before.\n",
        "\n",
        "66. 'Knowledge_7', : Waiting on answers to questions often causes interruptions and disrupts my workflow.\n",
        "\n",
        "\n",
        "\n",
        "67. 'Frequency_1', : Needing help from people outside of your immediate team?\n",
        "\n",
        "68. 'Frequency_2', : Interacting with people outside of your immediate team?\n",
        "\n",
        "69. 'Frequency_3', : Encountering knowledge silos (where one individual or team has information that's not shared or distributed with other individuals or teams) at work?\n",
        "\n",
        "\n",
        "70. 'TimeSearching', : On an average day, how much time do you typically spend searching for answers or solutions to problems you encounter at work? (This includes time spent searching on your own, asking a colleague, and waiting for a response).\n",
        "\n",
        "71. 'TimeAnswering', : On an average day, how much time do you typically spend answering questions you get asked at work?\n",
        "\n",
        "72. 'Onboarding', : The time it takes to onboard new hires at my company is:\n",
        "\n",
        "73. 'ProfessionalTech', : My company has:\n",
        "\n",
        "Missing Q: Does your team use Stack Overflow for Teams?\n",
        "\n",
        "74. 'TrueFalse_1', : Are you involved in supporting new hires during their onboarding?\n",
        "\n",
        "75. 'TrueFalse_2', : Do you use learning resources provided by your employer?\n",
        "\n",
        "76. 'TrueFalse_3', : Does your employer give you time to learn new skills?\n"
      ],
      "metadata": {
        "id": "RrkhmSt41fG5"
      }
    },
    {
      "cell_type": "markdown",
      "source": [
        "FinalThoughtsSurveyReview\n",
        "\n",
        "77. 'SurveyLength', : How do you feel about the length of the survey this year?\n",
        "\n",
        "78. 'SurveyEase', : How easy or difficult was this survey to complete?\n",
        "\n",
        "79. 'ConvertedCompYearly': Unknown column"
      ],
      "metadata": {
        "id": "sO1QJVpP3sCz"
      }
    },
    {
      "cell_type": "code",
      "source": [
        "survey_results.DevType.unique()"
      ],
      "metadata": {
        "id": "FhC1RsuIjtnH"
      },
      "execution_count": null,
      "outputs": []
    },
    {
      "cell_type": "code",
      "source": [
        "survey_results.Knowledge_1.unique()"
      ],
      "metadata": {
        "id": "ixXEsRJ7lDUE"
      },
      "execution_count": null,
      "outputs": []
    },
    {
      "cell_type": "code",
      "source": [
        "survey_results.Frequency_2.unique()"
      ],
      "metadata": {
        "id": "6VUC5FWXlZa-"
      },
      "execution_count": null,
      "outputs": []
    },
    {
      "cell_type": "code",
      "source": [
        "df = survey_results.copy()"
      ],
      "metadata": {
        "id": "-ALmHQgVq50s"
      },
      "execution_count": null,
      "outputs": []
    },
    {
      "cell_type": "code",
      "source": [
        "#unique_vals = {col:df[col].unique() for col in df}\n",
        "#unique_vals"
      ],
      "metadata": {
        "id": "PFhXTxohoyGl"
      },
      "execution_count": null,
      "outputs": []
    },
    {
      "cell_type": "code",
      "source": [
        "# ResponseId\n",
        "\n",
        "df.ResponseId.describe()"
      ],
      "metadata": {
        "id": "geXqIpaIVEUW"
      },
      "execution_count": null,
      "outputs": []
    },
    {
      "cell_type": "code",
      "source": [
        "df.MainBranch.unique()"
      ],
      "metadata": {
        "id": "t3wGNw4HVQX-"
      },
      "execution_count": null,
      "outputs": []
    },
    {
      "cell_type": "code",
      "source": [
        "emplotment_array = df['Employment'].str.split(r\";\", expand = True,) #r\";|,\"\"\n",
        "emplotment_array\n",
        "emplotment_array[0].unique()\n",
        "emplotment_array[1].unique()\n",
        "emplotment_array[3].unique()"
      ],
      "metadata": {
        "id": "pGg2wud3V7hV"
      },
      "execution_count": null,
      "outputs": []
    },
    {
      "cell_type": "code",
      "source": [
        "df.Employment.isna().sum()"
      ],
      "metadata": {
        "id": "Afp-UWYZZgFJ"
      },
      "execution_count": null,
      "outputs": []
    },
    {
      "cell_type": "code",
      "source": [
        "df.RemoteWork.unique()"
      ],
      "metadata": {
        "id": "r1U2Yzm_pQDR"
      },
      "execution_count": null,
      "outputs": []
    },
    {
      "cell_type": "code",
      "source": [
        "df.CodingActivities.unique()\n",
        "_CodingActivities = df['CodingActivities'].str.split(r\";\", expand = True,) #r\";|,\"\"\n",
        "_CodingActivities\n",
        "_CodingActivities[0].unique()\n",
        "#_CodingActivities[1].unique()\n",
        "#_CodingActivities[3].unique()\n",
        "#_CodingActivities[4].unique()\n",
        "#_CodingActivities[5].unique()\n"
      ],
      "metadata": {
        "id": "zEpUD4HrqSyB"
      },
      "execution_count": null,
      "outputs": []
    },
    {
      "cell_type": "code",
      "source": [
        "df.EdLevel.unique()"
      ],
      "metadata": {
        "id": "ZUEGGZNKsmcU"
      },
      "execution_count": null,
      "outputs": []
    },
    {
      "cell_type": "code",
      "source": [],
      "metadata": {
        "id": "k6LQdfWptJMg"
      },
      "execution_count": null,
      "outputs": []
    }
  ]
}
